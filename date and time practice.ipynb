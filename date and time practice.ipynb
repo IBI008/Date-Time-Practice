{
 "cells": [
  {
   "cell_type": "code",
   "execution_count": 4,
   "metadata": {},
   "outputs": [
    {
     "name": "stdout",
     "output_type": "stream",
     "text": [
      "hour = 14\n",
      "minute = 42\n",
      "second = 5\n",
      "microsecond = 566\n"
     ]
    }
   ],
   "source": [
    "# Solution to the practical exercise.\n",
    "# Q1\n",
    "\n",
    "from datetime import time\n",
    "t = time(14, 42, 5, 566)\n",
    "print(\"hour =\", t.hour)\n",
    "print(\"minute =\", t.minute)\n",
    "print(\"second =\", t.second)\n",
    "print(\"microsecond =\", t.microsecond)"
   ]
  },
  {
   "cell_type": "code",
   "execution_count": 6,
   "metadata": {},
   "outputs": [
    {
     "name": "stdout",
     "output_type": "stream",
     "text": [
      "year = 2019\n",
      "month = 1\n",
      "day = 28\n",
      "hour = 23\n",
      "minute = 55\n",
      "second = 59\n",
      "microsecond = 1023\n"
     ]
    }
   ],
   "source": [
    "# Q2\n",
    "# Print Year, Month, Day, Hour, Minute, Second\n",
    "\n",
    "from datetime import datetime\n",
    "dt = datetime(2019, 1, 28, 23, 55, 59, 1023)\n",
    "print(\"year =\", dt.year)\n",
    "print(\"month =\", dt.month)\n",
    "print(\"day =\", dt.day)\n",
    "print(\"hour =\", dt.hour)\n",
    "print(\"minute =\", dt.minute)\n",
    "print(\"second =\", dt.second)\n",
    "print(\"microsecond =\", dt.microsecond)"
   ]
  },
  {
   "cell_type": "code",
   "execution_count": 7,
   "metadata": {},
   "outputs": [
    {
     "name": "stdout",
     "output_type": "stream",
     "text": [
      "Current year: 2022\n",
      "Current month: 9\n",
      "Current day: 21\n"
     ]
    }
   ],
   "source": [
    "# Q3\n",
    "# Print current date and time.\n",
    "\n",
    "from datetime import date\n",
    "today = date.today()\n",
    "\n",
    "print(\"Current year:\", today.year)\n",
    "print(\"Current month:\", today.month)\n",
    "print(\"Current day:\", today.day)"
   ]
  },
  {
   "cell_type": "code",
   "execution_count": 9,
   "metadata": {},
   "outputs": [
    {
     "data": {
      "text/plain": [
       "'Saturday'"
      ]
     },
     "execution_count": 9,
     "metadata": {},
     "output_type": "execute_result"
    }
   ],
   "source": [
    "# Q4\n",
    "# Extrtact the name of day from datetime Object\n",
    "\n",
    "day = datetime(2017, 1, 28)\n",
    "day.strftime('%A')"
   ]
  },
  {
   "cell_type": "code",
   "execution_count": null,
   "metadata": {},
   "outputs": [],
   "source": []
  }
 ],
 "metadata": {
  "kernelspec": {
   "display_name": "Python 3",
   "language": "python",
   "name": "python3"
  },
  "language_info": {
   "codemirror_mode": {
    "name": "ipython",
    "version": 3
   },
   "file_extension": ".py",
   "mimetype": "text/x-python",
   "name": "python",
   "nbconvert_exporter": "python",
   "pygments_lexer": "ipython3",
   "version": "3.7.6"
  }
 },
 "nbformat": 4,
 "nbformat_minor": 4
}
